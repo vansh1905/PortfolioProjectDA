{
 "cells": [
  {
   "cell_type": "code",
   "id": "initial_id",
   "metadata": {
    "collapsed": true,
    "ExecuteTime": {
     "end_time": "2025-08-18T03:12:24.396308Z",
     "start_time": "2025-08-18T03:12:23.647959Z"
    }
   },
   "source": [
    "# import libraries\n",
    "from bs4 import BeautifulSoup\n",
    "import requests\n",
    "import time\n",
    "import datetime\n",
    "\n",
    "\n",
    "import smtplib\n",
    "\n",
    "from debugpy.common.log import timestamp_format\n"
   ],
   "outputs": [],
   "execution_count": 4
  },
  {
   "metadata": {
    "ExecuteTime": {
     "end_time": "2025-08-18T03:00:28.824809Z",
     "start_time": "2025-08-18T03:00:25.162946Z"
    }
   },
   "cell_type": "code",
   "source": [
    "# connect to website and pulling data in\n",
    "URL = \"https://www.amazon.in/Van-Heusen-Solid-Regular-VSKP517S011419_Nautical_Medium/dp/B076CJFG6S/ref=sr_1_12?nsdOptOutParam=true&sr=8-12\"\n",
    "\n",
    "headers = {\"User-Agent\": \"Mozilla/5.0 (Windows NT 10.0; Win64; x64) AppleWebKit/537.36 (KHTML, like Gecko) Chrome/138.0.0.0 Safari/537.36\", \"X-Amzn-Trace-Id\": \"Root=1-689172bc-63e62e4e141c86c46cf63f86\" }\n",
    "\n",
    "page = requests.get(URL, headers= headers)\n",
    "\n",
    "soup1 = BeautifulSoup(page.content, \"html.parser\")\n",
    "\n",
    "soup2 = BeautifulSoup(soup1.prettify(), 'html.parser')\n",
    "\n",
    "title = soup2.find(id = \"title\").get_text(strip = True)\n",
    "\n",
    "price = soup2.find(class_ = \"a-price\").get_text(strip = True)\n",
    "\n",
    "print(title)\n",
    "print(price)"
   ],
   "id": "d36f01f3238933d4",
   "outputs": [
    {
     "name": "stdout",
     "output_type": "stream",
     "text": [
      "Van Heusen Men's Cotton Solid Regular Fit T-Shirt\n",
      "₹699\n"
     ]
    }
   ],
   "execution_count": 2
  },
  {
   "metadata": {
    "ExecuteTime": {
     "end_time": "2025-08-18T03:00:34.708309Z",
     "start_time": "2025-08-18T03:00:34.700452Z"
    }
   },
   "cell_type": "code",
   "source": [
    "# Clean up data\n",
    "price = price[1:]\n",
    "print(title)\n",
    "print(price)"
   ],
   "id": "fdc94abc0ed1fad8",
   "outputs": [
    {
     "name": "stdout",
     "output_type": "stream",
     "text": [
      "Van Heusen Men's Cotton Solid Regular Fit T-Shirt\n",
      "699\n"
     ]
    }
   ],
   "execution_count": 3
  },
  {
   "metadata": {
    "ExecuteTime": {
     "end_time": "2025-08-18T03:00:38.195032Z",
     "start_time": "2025-08-18T03:00:38.188191Z"
    }
   },
   "cell_type": "code",
   "source": [
    "# create a timestamp for output to track when data was collected\n",
    "import datetime\n",
    "today = datetime.date.today()\n",
    "print(today)"
   ],
   "id": "333ac0af9e14b90c",
   "outputs": [
    {
     "name": "stdout",
     "output_type": "stream",
     "text": [
      "2025-08-18\n"
     ]
    }
   ],
   "execution_count": 4
  },
  {
   "metadata": {
    "ExecuteTime": {
     "end_time": "2025-08-18T03:00:39.315028Z",
     "start_time": "2025-08-18T03:00:39.305059Z"
    }
   },
   "cell_type": "code",
   "source": [
    "# Create CSV and write headers and data into the file\n",
    "\n",
    "import csv\n",
    "\n",
    "header = ['Title','Price','today']\n",
    "data = [title,price,today]\n",
    "\n",
    "\n",
    "with open('AmazonWebScrapperDataset.csv','w', newline='',encoding='UTF8') as f:\n",
    "    writer = csv.writer(f)\n",
    "    writer.writerow(header)\n",
    "    writer.writerow(data)"
   ],
   "id": "ff9003ba23131f75",
   "outputs": [],
   "execution_count": 5
  },
  {
   "metadata": {
    "ExecuteTime": {
     "end_time": "2025-08-18T03:00:49.395953Z",
     "start_time": "2025-08-18T03:00:45.801543Z"
    }
   },
   "cell_type": "code",
   "source": [
    "import pandas as pd\n",
    "df = pd.read_csv(r\"C:\\Users\\vansh\\PyCharmMiscProject\\AmazonWebScrapperDataset.csv\")\n",
    "df"
   ],
   "id": "dd14b0179c37cd6d",
   "outputs": [
    {
     "data": {
      "text/plain": [
       "                                               Title Price       today\n",
       "0  Van Heusen Men's Cotton Solid Regular Fit T-Shirt   599  2025-08-05\n",
       "1  Van Heusen Men's Cotton Solid Regular Fit T-Shirt   599  2025-08-05\n",
       "2  Van Heusen Men's Cotton Solid Regular Fit T-Shirt  ₹599  2025-08-05\n",
       "3  Van Heusen Men's Cotton Solid Regular Fit T-Shirt  ₹599  2025-08-05\n",
       "4  Van Heusen Men's Cotton Solid Regular Fit T-Shirt  ₹599  2025-08-05"
      ],
      "text/html": [
       "<div>\n",
       "<style scoped>\n",
       "    .dataframe tbody tr th:only-of-type {\n",
       "        vertical-align: middle;\n",
       "    }\n",
       "\n",
       "    .dataframe tbody tr th {\n",
       "        vertical-align: top;\n",
       "    }\n",
       "\n",
       "    .dataframe thead th {\n",
       "        text-align: right;\n",
       "    }\n",
       "</style>\n",
       "<table border=\"1\" class=\"dataframe\">\n",
       "  <thead>\n",
       "    <tr style=\"text-align: right;\">\n",
       "      <th></th>\n",
       "      <th>Title</th>\n",
       "      <th>Price</th>\n",
       "      <th>today</th>\n",
       "    </tr>\n",
       "  </thead>\n",
       "  <tbody>\n",
       "    <tr>\n",
       "      <th>0</th>\n",
       "      <td>Van Heusen Men's Cotton Solid Regular Fit T-Shirt</td>\n",
       "      <td>599</td>\n",
       "      <td>2025-08-05</td>\n",
       "    </tr>\n",
       "    <tr>\n",
       "      <th>1</th>\n",
       "      <td>Van Heusen Men's Cotton Solid Regular Fit T-Shirt</td>\n",
       "      <td>599</td>\n",
       "      <td>2025-08-05</td>\n",
       "    </tr>\n",
       "    <tr>\n",
       "      <th>2</th>\n",
       "      <td>Van Heusen Men's Cotton Solid Regular Fit T-Shirt</td>\n",
       "      <td>₹599</td>\n",
       "      <td>2025-08-05</td>\n",
       "    </tr>\n",
       "    <tr>\n",
       "      <th>3</th>\n",
       "      <td>Van Heusen Men's Cotton Solid Regular Fit T-Shirt</td>\n",
       "      <td>₹599</td>\n",
       "      <td>2025-08-05</td>\n",
       "    </tr>\n",
       "    <tr>\n",
       "      <th>4</th>\n",
       "      <td>Van Heusen Men's Cotton Solid Regular Fit T-Shirt</td>\n",
       "      <td>₹599</td>\n",
       "      <td>2025-08-05</td>\n",
       "    </tr>\n",
       "  </tbody>\n",
       "</table>\n",
       "</div>"
      ]
     },
     "execution_count": 6,
     "metadata": {},
     "output_type": "execute_result"
    }
   ],
   "execution_count": 6
  },
  {
   "metadata": {
    "ExecuteTime": {
     "end_time": "2025-08-18T03:00:53.845652Z",
     "start_time": "2025-08-18T03:00:53.839287Z"
    }
   },
   "cell_type": "code",
   "source": [
    "#Now we are appending data to the csv\n",
    "\n",
    "with open('AmazonWebScrapperDataset.csv','a+', newline='',encoding='UTF8') as f:\n",
    "    writer = csv.writer(f)\n",
    "    writer.writerow(data)"
   ],
   "id": "9119faceb4843c04",
   "outputs": [],
   "execution_count": 7
  },
  {
   "metadata": {
    "ExecuteTime": {
     "end_time": "2025-08-18T03:13:06.534351Z",
     "start_time": "2025-08-18T03:13:06.524884Z"
    }
   },
   "cell_type": "code",
   "source": [
    "#Combine all of the above code into one function\n",
    "\n",
    "def check_price():\n",
    "    URL = \"https://www.amazon.in/Van-Heusen-Solid-Regular-VSKP517S011419_Nautical_Medium/dp/B076CJFG6S/ref=sr_1_12?nsdOptOutParam=true&sr=8-12\"\n",
    "\n",
    "    headers = {\"User-Agent\": \"Mozilla/5.0 (Windows NT 10.0; Win64; x64) AppleWebKit/537.36 (KHTML, like Gecko) Chrome/138.0.0.0 Safari/537.36\", \"X-Amzn-Trace-Id\": \"Root=1-689172bc-63e62e4e141c86c46cf63f86\" }\n",
    "\n",
    "    page = requests.get(URL, headers= headers)\n",
    "    soup1 = BeautifulSoup(page.content, \"html.parser\")\n",
    "    soup2 = BeautifulSoup(soup1.prettify(), 'html.parser')\n",
    "    title = soup2.find(id = \"title\").get_text(strip = True)\n",
    "    price = soup2.find(class_ = \"a-price\").get_text(strip = True)\n",
    "    import datetime\n",
    "\n",
    "    today = datetime.date.today()\n",
    "\n",
    "    import csv\n",
    "\n",
    "    header = ['Title','Price','today']\n",
    "    data = [title,price,today]\n",
    "\n",
    "\n",
    "    with open('AmazonWebScrapperDataset.csv','a+', newline='',encoding='UTF8') as f:\n",
    "        writer = csv.writer(f)\n",
    "        writer.writerow(data)\n",
    "\n"
   ],
   "id": "9b8bd841a9898590",
   "outputs": [],
   "execution_count": 7
  },
  {
   "metadata": {},
   "cell_type": "code",
   "outputs": [],
   "execution_count": null,
   "source": [
    "# Runs check_price after a set time and inputs data into your CSV\n",
    "\n",
    "while(True):\n",
    "    check_price()\n",
    "    time.sleep(5)"
   ],
   "id": "d46bb001c9e324e6"
  }
 ],
 "metadata": {
  "kernelspec": {
   "display_name": "Python 3",
   "language": "python",
   "name": "python3"
  },
  "language_info": {
   "codemirror_mode": {
    "name": "ipython",
    "version": 2
   },
   "file_extension": ".py",
   "mimetype": "text/x-python",
   "name": "python",
   "nbconvert_exporter": "python",
   "pygments_lexer": "ipython2",
   "version": "2.7.6"
  }
 },
 "nbformat": 4,
 "nbformat_minor": 5
}
